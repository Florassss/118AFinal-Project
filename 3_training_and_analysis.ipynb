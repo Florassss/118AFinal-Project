{
  "cells": [
    {
      "cell_type": "markdown",
      "metadata": {
        "id": "view-in-github",
        "colab_type": "text"
      },
      "source": [
        "<a href=\"https://colab.research.google.com/github/Florassss/118AFinal-Project/blob/master/3_training_and_analysis.ipynb\" target=\"_parent\"><img src=\"https://colab.research.google.com/assets/colab-badge.svg\" alt=\"Open In Colab\"/></a>"
      ]
    },
    {
      "cell_type": "markdown",
      "metadata": {
        "id": "z2nGDz0JliKU"
      },
      "source": [
        "# **3. Training and Testing**\n",
        "Please start early! Section 3.6 Training may take one to two hours to run. "
      ]
    },
    {
      "cell_type": "markdown",
      "metadata": {
        "id": "c5U9gkiTnC4s"
      },
      "source": [
        "## 3.0 Setup GDrive and Git"
      ]
    },
    {
      "cell_type": "code",
      "source": [
        "# Mount google drive\n",
        "from google.colab import drive\n",
        "drive.mount('/content/gdrive') "
      ],
      "metadata": {
        "id": "WwcJax1zU04M",
        "colab": {
          "base_uri": "https://localhost:8080/"
        },
        "outputId": "85c53e1c-cb90-45c7-ced3-02614a9ea865"
      },
      "execution_count": 1,
      "outputs": [
        {
          "output_type": "stream",
          "name": "stdout",
          "text": [
            "Mounted at /content/gdrive\n"
          ]
        }
      ]
    },
    {
      "cell_type": "code",
      "source": [
        "# Make sure your token is stored in a txt file at the location below.\n",
        "# This way there is no risk that you will push it to your repo\n",
        "# Never share your token with anyone, it is basically your github password!\n",
        "with open('/content/gdrive/MyDrive/ece5545/token.txt') as f:\n",
        "    token = f.readline().strip()\n",
        "# Use another file to store your github username    \n",
        "with open('/content/gdrive/MyDrive/ece5545/git_username.txt') as f:\n",
        "    handle = f.readline().strip()"
      ],
      "metadata": {
        "id": "NQklidVMU0-t"
      },
      "execution_count": 2,
      "outputs": []
    },
    {
      "cell_type": "code",
      "source": [
        "# Clone your github repo\n",
        "YOUR_TOKEN = token\n",
        "YOUR_HANDLE = handle\n",
        "BRANCH = \"main\"\n",
        "\n",
        "%mkdir /content/gdrive/MyDrive/ece5545\n",
        "%cd /content/gdrive/MyDrive/ece5545\n",
        "!git clone https://{YOUR_TOKEN}@github.com/ML-HW-SYS/a2-{YOUR_HANDLE}.git\n",
        "%cd /content/gdrive/MyDrive/ece5545/a2-{YOUR_HANDLE}\n",
        "!git checkout {BRANCH}\n",
        "!git pull\n",
        "%cd /content/gdrive/MyDrive/ece5545\n",
        "\n",
        "PROJECT_ROOT = f\"/content/gdrive/MyDrive/ece5545/a2-{YOUR_HANDLE}\""
      ],
      "metadata": {
        "id": "7bdUCGFEU1Es",
        "colab": {
          "base_uri": "https://localhost:8080/"
        },
        "outputId": "e4193e60-494c-47fc-e48f-6c94b19d7de5"
      },
      "execution_count": 3,
      "outputs": [
        {
          "output_type": "stream",
          "name": "stdout",
          "text": [
            "mkdir: cannot create directory ‘/content/gdrive/MyDrive/ece5545’: File exists\n",
            "/content/gdrive/MyDrive/ece5545\n",
            "fatal: destination path 'a2-Florassss' already exists and is not an empty directory.\n",
            "/content/gdrive/MyDrive/ece5545/a2-Florassss\n",
            "Already on 'main'\n",
            "Your branch is up to date with 'origin/main'.\n",
            "Already up to date.\n",
            "/content/gdrive/MyDrive/ece5545\n"
          ]
        }
      ]
    },
    {
      "cell_type": "code",
      "source": [
        "# This extension reloads all imports before running each cell\n",
        "%load_ext autoreload\n",
        "%autoreload 2"
      ],
      "metadata": {
        "id": "xHXYdHkzU1MX"
      },
      "execution_count": 4,
      "outputs": []
    },
    {
      "cell_type": "markdown",
      "metadata": {
        "id": "t6zMfxIflRLB"
      },
      "source": [
        "### GPU\n",
        "\n",
        "Ensure you are running the GPU runtime type:\n",
        "1.   Click \"Runtime\" on top banner\n",
        "2.   Select \"Change runtime type\"\n",
        "3.   Under \"Hardware accelarator\" select \"GPU\" and save\n",
        "\n"
      ]
    },
    {
      "cell_type": "markdown",
      "metadata": {
        "id": "be4rOan-nHrF"
      },
      "source": [
        "### Import code dependencies"
      ]
    },
    {
      "cell_type": "code",
      "execution_count": 5,
      "metadata": {
        "id": "aDDr3IrkliKY",
        "colab": {
          "base_uri": "https://localhost:8080/"
        },
        "outputId": "893e5869-7a1e-4cd5-a33f-f24130f6143c"
      },
      "outputs": [
        {
          "output_type": "stream",
          "name": "stdout",
          "text": [
            "Model folders are created, \n",
            "PyTorch models will be saved in /content/gdrive/MyDrive/ece5545/models/torch_models, \n",
            "ONNX models will be saved in /content/gdrive/MyDrive/ece5545/models/onnx_models, \n",
            "TensorFlow Saved Models will be saved in /content/gdrive/MyDrive/ece5545/models/tf_models, \n",
            "TensorFlow Lite models will be saved in /content/gdrive/MyDrive/ece5545/models/tflite_models, \n",
            "TensorFlow Lite Micro models will be saved in /content/gdrive/MyDrive/ece5545/models/micro_models.\n"
          ]
        }
      ],
      "source": [
        "import os\n",
        "import sys\n",
        "\n",
        "# Adding assignment 2 to the system path\n",
        "# -- make sure this matches your git directory\n",
        "sys.path.insert(0, PROJECT_ROOT)\n",
        "\n",
        "# Import libraries \n",
        "import torch\n",
        "import torch.nn as nn\n",
        "import torch.nn.functional as F\n",
        "import torch.optim as optim\n",
        "\n",
        "import matplotlib.pyplot as plt\n",
        "from tqdm.notebook import tqdm\n",
        "import numpy as np\n",
        "import copy\n",
        "\n",
        "# Import constants to use constants defined for training\n",
        "from src.constants import *\n",
        "# Import data_proc to use data processing functions\n",
        "import src.data_proc as data_proc\n",
        "\n",
        "random_seed = 0\n",
        "torch.manual_seed(random_seed)\n",
        "torch.cuda.manual_seed(random_seed)"
      ]
    },
    {
      "cell_type": "markdown",
      "metadata": {
        "id": "U7qaF1IEliKa"
      },
      "source": [
        "## 3.1 Download and Preprocess Data"
      ]
    },
    {
      "cell_type": "markdown",
      "metadata": {
        "id": "FLwsdGt_liKa"
      },
      "source": [
        "### Create audio processor\n",
        "This step is similar to what was done in part 2, so the files should already be downloaded in your Google Drive."
      ]
    },
    {
      "cell_type": "code",
      "execution_count": 6,
      "metadata": {
        "id": "Xdc42fZiliKa"
      },
      "outputs": [],
      "source": [
        "# Create audio_processor\n",
        "audio_processor = data_proc.AudioProcessor()"
      ]
    },
    {
      "cell_type": "markdown",
      "metadata": {
        "id": "e53768H0liKf"
      },
      "source": [
        "### Select device: cuda or cpu"
      ]
    },
    {
      "cell_type": "code",
      "execution_count": 7,
      "metadata": {
        "id": "UrpzLHRhliKf",
        "colab": {
          "base_uri": "https://localhost:8080/"
        },
        "outputId": "b7c151fa-8686-4b77-b9a5-0cdbec1260da"
      },
      "outputs": [
        {
          "output_type": "stream",
          "name": "stdout",
          "text": [
            "Using cpu to run the training scrpit.\n"
          ]
        }
      ],
      "source": [
        "# Define device\n",
        "device = torch.device(\"cuda\" if torch.cuda.is_available() else \"cpu\")\n",
        "print(f'Using {device} to run the training scrpit.')"
      ]
    },
    {
      "cell_type": "markdown",
      "metadata": {
        "id": "ViruC2uOnY3u"
      },
      "source": [
        "## 3.2 Data Loader"
      ]
    },
    {
      "cell_type": "code",
      "execution_count": 8,
      "metadata": {
        "id": "3qYQMncTliKb",
        "colab": {
          "base_uri": "https://localhost:8080/"
        },
        "outputId": "ee062470-ee78-45a6-f437-7633f18707e0"
      },
      "outputs": [
        {
          "output_type": "stream",
          "name": "stdout",
          "text": [
            "Train size: 10556 Val size: 1333 Test size: 1368\n"
          ]
        }
      ],
      "source": [
        "# Define train, test, and validation set\n",
        "train_set = audio_processor.data_index['training']\n",
        "test_set = audio_processor.data_index['testing']\n",
        "valid_set = audio_processor.data_index['validation']\n",
        "\n",
        "# Define data loaders\n",
        "from src.loaders import make_data_loaders\n",
        "data_loaders = make_data_loaders(audio_processor, device)\n",
        "train_loader = data_loaders['training']\n",
        "test_loader = data_loaders['testing']\n",
        "valid_loader = data_loaders['validation']"
      ]
    },
    {
      "cell_type": "markdown",
      "metadata": {
        "id": "cBSyrbs6liKg"
      },
      "source": [
        "## 3.3 Define the Model"
      ]
    },
    {
      "cell_type": "code",
      "execution_count": 9,
      "metadata": {
        "id": "OERV-lIDliKi",
        "colab": {
          "base_uri": "https://localhost:8080/"
        },
        "outputId": "0ce38ea3-f92c-4f21-8177-653f277e9e57"
      },
      "outputs": [
        {
          "output_type": "execute_result",
          "data": {
            "text/plain": [
              "TinyConv(\n",
              "  (conv_reshape): Reshape(output_shape=(-1, 1, 49, 40))\n",
              "  (conv): Conv2d(1, 8, kernel_size=(10, 8), stride=(2, 2), padding=(5, 3))\n",
              "  (relu): ReLU()\n",
              "  (dropout): Dropout(p=0.5, inplace=False)\n",
              "  (fc_reshape): Reshape(output_shape=(-1, 4000))\n",
              "  (fc): Linear(in_features=4000, out_features=4, bias=True)\n",
              "  (softmax): Softmax(dim=1)\n",
              ")"
            ]
          },
          "metadata": {},
          "execution_count": 9
        }
      ],
      "source": [
        "from src.networks import TinyConv\n",
        "# Create a full precision (float32) TinyConv model\n",
        "model_fp32 = TinyConv(\n",
        "    model_settings=audio_processor.model_settings,\n",
        "    n_input=1,\n",
        "    n_output=audio_processor.num_labels\n",
        ")\n",
        "model_fp32"
      ]
    },
    {
      "cell_type": "markdown",
      "metadata": {
        "id": "0PeiCwmdliKk"
      },
      "source": [
        "## 3.4 Training"
      ]
    },
    {
      "cell_type": "code",
      "execution_count": 10,
      "metadata": {
        "id": "pTDNIHCqliKj"
      },
      "outputs": [],
      "source": [
        "from src.train_val_test_utils import train, test"
      ]
    },
    {
      "cell_type": "markdown",
      "metadata": {
        "id": "Fnk6TOA8rv7C"
      },
      "source": [
        "### Adjust parameters\n",
        "*   You can change *n_epoch* to use a different number training steps/epochs"
      ]
    },
    {
      "cell_type": "code",
      "execution_count": 11,
      "metadata": {
        "id": "4twj3n1tliKk",
        "colab": {
          "base_uri": "https://localhost:8080/"
        },
        "outputId": "722cd785-c623-451e-9864-3204c70439bd"
      },
      "outputs": [
        {
          "output_type": "stream",
          "name": "stdout",
          "text": [
            "# batches: 106 \n",
            "# epochs: 50 \n",
            "# total training steps: 5300\n"
          ]
        }
      ],
      "source": [
        "num_batches = len(train_loader)\n",
        "n_epoch = 50\n",
        "print(f'# batches: {num_batches} \\n# epochs: {n_epoch} \\n# total training steps: {num_batches * n_epoch}')"
      ]
    },
    {
      "cell_type": "markdown",
      "metadata": {
        "id": "Ps_AJaYKliKk"
      },
      "source": [
        "### Create optimizer for training\n",
        " Explore more at: \n",
        "[TORCH. OPTIM](https://pytorch.org/docs/stable/optim.html?highlight=torch%20optim%20lr_scheduler)"
      ]
    },
    {
      "cell_type": "code",
      "execution_count": 12,
      "metadata": {
        "id": "VqVXUQzYliKk",
        "colab": {
          "base_uri": "https://localhost:8080/"
        },
        "outputId": "2fb5f18c-a75a-4f3a-d5f2-8a394ecdc62b"
      },
      "outputs": [
        {
          "output_type": "stream",
          "name": "stdout",
          "text": [
            "{'state': {}, 'param_groups': [{'lr': 0.001, 'betas': (0.9, 0.999), 'eps': 1e-08, 'weight_decay': 0.0001, 'amsgrad': False, 'params': [0, 1, 2, 3]}]}\n"
          ]
        }
      ],
      "source": [
        "from src.train_val_test_utils import create_optimizer\n",
        "\n",
        "# Create optimizer\n",
        "optimizer_fp32 = create_optimizer(model=model_fp32, learning_rate=0.001)\n",
        "print(optimizer_fp32.state_dict())"
      ]
    },
    {
      "cell_type": "markdown",
      "metadata": {
        "id": "EX-iWv6Ash3R"
      },
      "source": [
        "### Train the model\n",
        "TensorBoard will allow you to visualize your results. The second code block, the training, will take a while to run."
      ]
    },
    {
      "cell_type": "code",
      "execution_count": 13,
      "metadata": {
        "id": "DGag-bchliKl"
      },
      "outputs": [],
      "source": [
        "pbar_update = 1 / (len(train_loader) + len(test_loader) + len(valid_loader))\n",
        "\n",
        "def run_training(model, data_loaders, n_epoch, optimizer,\n",
        "                 save_interval=1, resume=True, checkpoint_path=None):\n",
        "    test_loader = data_loaders['testing']\n",
        "    last_valacc = 0\n",
        "    val_accs = []\n",
        "    train_accs = []\n",
        "    with tqdm(total=n_epoch) as pbar:\n",
        "      \n",
        "        completed_epoch = 1\n",
        "        if resume:\n",
        "            try:\n",
        "                #continue training with previous model if one exists\n",
        "                checkpoint = torch.load(checkpoint_path)\n",
        "                model.load_state_dict(checkpoint['model_state_dict'])\n",
        "                optimizer.load_state_dict(checkpoint['optimizer_state_dict'])\n",
        "                completed_epoch = checkpoint[\"epoch\"] + 1\n",
        "                model.eval()\n",
        "                pbar.update(completed_epoch)\n",
        "            except:\n",
        "                pass\n",
        "\n",
        "        for epoch in range(completed_epoch, n_epoch + 1):\n",
        "            valacc = 0\n",
        "            train_iters = len(data_loaders['training'])\n",
        "            \n",
        "            train(model, data_loaders, optimizer, \n",
        "                      epoch, device)\n",
        "            train_accs.append(test(train_loader, model, device, \n",
        "                     epoch=None, loader_type='Train'))\n",
        "            #checkpoint the model every epoch\n",
        "            if epoch % save_interval == 0 and valacc > last_valacc:\n",
        "                torch.save({\n",
        "                    'epoch': epoch,\n",
        "                    'model_state_dict': model.state_dict(),\n",
        "                    'optimizer_state_dict': optimizer.state_dict()\n",
        "                }, checkpoint_path)\n",
        "            val_accs.append(valacc)\n",
        "            # Update epoch pbar\n",
        "            pbar.update(1)\n",
        "        \n",
        "        testacc = test(test_loader, model, device, \n",
        "                     epoch=None, loader_type='Test')\n",
        "        print(f'Test Acc = {round(testacc,2)}%')\n",
        "    return train_accs, val_accs"
      ]
    },
    {
      "cell_type": "code",
      "source": [
        "\n",
        "# This is where your checkpoint file will be saved\n",
        "checkpoint_path = os.path.join(TORCH_DIR, \"fp32_checkpoint.pt\")\n",
        "\n",
        "model_fp32.to(device)\n",
        "train_accs, val_accs = run_training(\n",
        "    model=model_fp32, data_loaders=data_loaders, \n",
        "    n_epoch=n_epoch, optimizer=optimizer_fp32, \n",
        "    resume=True, checkpoint_path=checkpoint_path\n",
        ")"
      ],
      "metadata": {
        "colab": {
          "base_uri": "https://localhost:8080/",
          "height": 960,
          "referenced_widgets": [
            "81696d5967a5430e97aa34f2debdfd3d",
            "e3b344f7a3324362bfddbdf04c552745",
            "1d9c64258110431aa1fb1c3353a913b9",
            "ca72431c7f69432e862225e9c7234a8c",
            "9ae15af6e043429392755229d5d15946",
            "475e439773634e74b0b0c823355994be",
            "fb5a816a66fe4060af69b0b40550e02e",
            "87c0ab31af8f45a1a43ba3c5842ccd0d",
            "a27fa0671dcc40fcbbea25f4fcccd4d3",
            "54e7730dd10e4d45a83d4ae55843a1c9",
            "07f8e148cb0a465685d004dd2a067769"
          ]
        },
        "id": "HnwDqSkvY0Pn",
        "outputId": "63152002-47e7-4062-ec2f-d9eb5dc76d59"
      },
      "execution_count": 14,
      "outputs": [
        {
          "output_type": "display_data",
          "data": {
            "text/plain": [
              "  0%|          | 0/50 [00:00<?, ?it/s]"
            ],
            "application/vnd.jupyter.widget-view+json": {
              "version_major": 2,
              "version_minor": 0,
              "model_id": "81696d5967a5430e97aa34f2debdfd3d"
            }
          },
          "metadata": {}
        },
        {
          "output_type": "stream",
          "name": "stdout",
          "text": [
            "Val Acc Epoch 1 = 82.0%, Train loss = 1.068\n",
            "Val Acc Epoch 2 = 84.77%, Train loss = 0.557\n",
            "Val Acc Epoch 3 = 86.65%, Train loss = 0.501\n",
            "Val Acc Epoch 4 = 86.2%, Train loss = 0.465\n",
            "Val Acc Epoch 5 = 86.87%, Train loss = 0.452\n",
            "Val Acc Epoch 6 = 87.55%, Train loss = 0.438\n",
            "Val Acc Epoch 7 = 88.07%, Train loss = 0.425\n",
            "Val Acc Epoch 8 = 88.6%, Train loss = 0.416\n",
            "Val Acc Epoch 9 = 88.3%, Train loss = 0.405\n",
            "Val Acc Epoch 10 = 88.67%, Train loss = 0.405\n",
            "Val Acc Epoch 11 = 87.7%, Train loss = 0.405\n",
            "Val Acc Epoch 12 = 88.22%, Train loss = 0.407\n",
            "Val Acc Epoch 13 = 89.27%, Train loss = 0.395\n",
            "Val Acc Epoch 14 = 88.52%, Train loss = 0.398\n",
            "Val Acc Epoch 15 = 88.22%, Train loss = 0.384\n",
            "Val Acc Epoch 16 = 88.75%, Train loss = 0.381\n",
            "Val Acc Epoch 17 = 86.42%, Train loss = 0.381\n",
            "Val Acc Epoch 18 = 89.57%, Train loss = 0.377\n",
            "Val Acc Epoch 19 = 89.35%, Train loss = 0.369\n",
            "Val Acc Epoch 20 = 88.67%, Train loss = 0.377\n",
            "Val Acc Epoch 21 = 89.35%, Train loss = 0.376\n",
            "Val Acc Epoch 22 = 88.75%, Train loss = 0.366\n",
            "Val Acc Epoch 23 = 89.27%, Train loss = 0.37\n",
            "Val Acc Epoch 24 = 89.35%, Train loss = 0.375\n",
            "Val Acc Epoch 25 = 88.82%, Train loss = 0.367\n",
            "Val Acc Epoch 26 = 88.52%, Train loss = 0.365\n",
            "Val Acc Epoch 27 = 89.5%, Train loss = 0.347\n",
            "Val Acc Epoch 28 = 88.52%, Train loss = 0.362\n",
            "Val Acc Epoch 29 = 89.57%, Train loss = 0.363\n",
            "Val Acc Epoch 30 = 88.52%, Train loss = 0.356\n",
            "Val Acc Epoch 31 = 90.32%, Train loss = 0.353\n",
            "Val Acc Epoch 32 = 89.65%, Train loss = 0.351\n",
            "Val Acc Epoch 33 = 90.17%, Train loss = 0.351\n",
            "Val Acc Epoch 34 = 89.57%, Train loss = 0.353\n",
            "Val Acc Epoch 35 = 88.97%, Train loss = 0.359\n",
            "Val Acc Epoch 36 = 89.65%, Train loss = 0.355\n",
            "Val Acc Epoch 37 = 90.1%, Train loss = 0.342\n",
            "Val Acc Epoch 38 = 90.02%, Train loss = 0.349\n",
            "Val Acc Epoch 39 = 89.27%, Train loss = 0.348\n",
            "Val Acc Epoch 40 = 88.6%, Train loss = 0.343\n",
            "Val Acc Epoch 41 = 89.5%, Train loss = 0.353\n",
            "Val Acc Epoch 42 = 89.87%, Train loss = 0.354\n",
            "Val Acc Epoch 43 = 90.92%, Train loss = 0.342\n",
            "Val Acc Epoch 44 = 89.5%, Train loss = 0.336\n",
            "Val Acc Epoch 45 = 88.67%, Train loss = 0.351\n",
            "Val Acc Epoch 46 = 90.77%, Train loss = 0.346\n",
            "Val Acc Epoch 47 = 89.35%, Train loss = 0.338\n",
            "Val Acc Epoch 48 = 90.92%, Train loss = 0.339\n",
            "Val Acc Epoch 49 = 89.57%, Train loss = 0.336\n",
            "Val Acc Epoch 50 = 90.7%, Train loss = 0.334\n",
            "Test Acc = 90.28%\n"
          ]
        }
      ]
    },
    {
      "cell_type": "code",
      "source": [
        "import matplotlib.pyplot as plt\n",
        "plt.plot(np.arange(50), train_accs, label='training acc')\n",
        "plt.plot(np.arange(50), train_accs, '.')\n",
        "\n",
        "plt.plot(np.arange(50), val_accs,label='val acc')\n",
        "plt.plot(np.arange(50), val_accs, '*')\n",
        "plt.legend()\n",
        "plt.title('Accuracy Comparison')\n",
        "plt.xlabel('epoch')\n",
        "plt.ylabel('acc%')\n"
      ],
      "metadata": {
        "id": "AUeXq3fGMz74",
        "outputId": "d2a004f7-c895-47fd-db05-a72f25ba8d53",
        "colab": {
          "base_uri": "https://localhost:8080/",
          "height": 313
        }
      },
      "execution_count": 31,
      "outputs": [
        {
          "output_type": "execute_result",
          "data": {
            "text/plain": [
              "Text(0, 0.5, 'acc%')"
            ]
          },
          "metadata": {},
          "execution_count": 31
        },
        {
          "output_type": "display_data",
          "data": {
            "text/plain": [
              "<Figure size 432x288 with 1 Axes>"
            ],
            "image/png": "[encoded data removed]"
          },
          "metadata": {
            "needs_background": "light"
          }
        }
      ]
    },
    {
      "cell_type": "markdown",
      "metadata": {
        "id": "Qg1WlG-rliKl"
      },
      "source": [
        "## 3.5 Testing"
      ]
    },
    {
      "cell_type": "markdown",
      "metadata": {
        "id": "oYgFvfYAliKm"
      },
      "source": [
        "### Calculating accuracy\n"
      ]
    },
    {
      "cell_type": "code",
      "execution_count": 16,
      "metadata": {
        "id": "9PtKvJH_liKm",
        "colab": {
          "base_uri": "https://localhost:8080/",
          "height": 776
        },
        "outputId": "e58a32f0-af86-4a0c-94da-8d4107e2f52c"
      },
      "outputs": [
        {
          "output_type": "stream",
          "name": "stdout",
          "text": [
            "Train size: 10556 Val size: 1333 Test size: 1368\n"
          ]
        },
        {
          "output_type": "display_data",
          "data": {
            "text/plain": [
              "<Figure size 432x288 with 1 Axes>"
            ],
            "image/png": "[encoded data removed]"
          },
          "metadata": {
            "needs_background": "light"
          }
        },
        {
          "output_type": "display_data",
          "data": {
            "text/plain": [
              "<Figure size 432x288 with 1 Axes>"
            ],
            "image/png": "[encoded data removed]"
          },
          "metadata": {
            "needs_background": "light"
          }
        },
        {
          "output_type": "display_data",
          "data": {
            "text/plain": [
              "<Figure size 432x288 with 1 Axes>"
            ],
            "image/png": "[encoded data removed]"
          },
          "metadata": {
            "needs_background": "light"
          }
        }
      ],
      "source": [
        "from src.train_val_test_utils import plot_acc\n",
        "\n",
        "test_time_data_loaders = make_data_loaders(\n",
        "    audio_processor, device, \n",
        "    test_batch_size=1, valid_batch_size=1,\n",
        "    num_workers=0\n",
        ")\n",
        "\n",
        "plot_acc(\n",
        "    test_time_data_loaders['validation'], model_fp32, audio_processor, device,\n",
        "    \"validation\", 'float32 TinyConv', \"float\")\n",
        "plot_acc(\n",
        "    test_time_data_loaders['training'], model_fp32, audio_processor, device,\n",
        "    \"training\", 'float32 TinyConv', \"float\")\n",
        "acc = plot_acc(\n",
        "    test_time_data_loaders['testing'], model_fp32, audio_processor, device,\n",
        "    'testing', 'float32 TinyConv', \"float\")"
      ]
    },
    {
      "cell_type": "markdown",
      "metadata": {
        "id": "_tMzxb-jliKm"
      },
      "source": [
        "## 3.6 Save the Trained Model"
      ]
    },
    {
      "cell_type": "code",
      "execution_count": 17,
      "metadata": {
        "id": "zqC6fEoUliKm"
      },
      "outputs": [],
      "source": [
        "def choose_name(model_name):\n",
        "    name = f\"{model_name}_\" + \"{index}\"\n",
        "    i = 0\n",
        "    while os.path.isfile(name.format(index=i)):\n",
        "        i += 1\n",
        "    name = name.format(index = i)\n",
        "    print(f\"The model's will be stored as: \\n {name}\")\n",
        "    return name\n",
        "\n",
        "def save_model(model, path):\n",
        "    torch.save(model.state_dict(), path)"
      ]
    },
    {
      "cell_type": "code",
      "execution_count": 18,
      "metadata": {
        "id": "VVKrP45aliKm",
        "colab": {
          "base_uri": "https://localhost:8080/",
          "height": 71
        },
        "outputId": "327e40b2-9475-4d20-f5e6-30fe44269e45"
      },
      "outputs": [
        {
          "output_type": "stream",
          "name": "stdout",
          "text": [
            "The model's will be stored as: \n",
            " tinyconv_float32_init_seed0_89.11%_0\n"
          ]
        },
        {
          "output_type": "execute_result",
          "data": {
            "text/plain": [
              "'/content/gdrive/MyDrive/ece5545/models/torch_models/tinyconv_float32_init_seed0_89.11%_0.pt'"
            ],
            "application/vnd.google.colaboratory.intrinsic+json": {
              "type": "string"
            }
          },
          "metadata": {},
          "execution_count": 18
        }
      ],
      "source": [
        "# Choose a path\n",
        "# You can also define your own path\n",
        "model_name = f\"tinyconv_float32_init_seed{torch.initial_seed()}_{acc * 100:.2f}%\"\n",
        "file_name = choose_name(model_name)\n",
        "torch_path = os.path.join(TORCH_DIR, f'{file_name}.pt')\n",
        "torch_path"
      ]
    },
    {
      "cell_type": "code",
      "execution_count": 19,
      "metadata": {
        "id": "JHgqZ8yXliKn",
        "colab": {
          "base_uri": "https://localhost:8080/",
          "height": 35
        },
        "outputId": "162b3bee-bbdb-4c74-ebe2-0a0b52df225c"
      },
      "outputs": [
        {
          "output_type": "execute_result",
          "data": {
            "text/plain": [
              "'Saved!'"
            ],
            "application/vnd.google.colaboratory.intrinsic+json": {
              "type": "string"
            }
          },
          "metadata": {},
          "execution_count": 19
        }
      ],
      "source": [
        "# Save the trained pytorch model to torch_path\n",
        "save_model(model_fp32, torch_path)\n",
        "'Saved!'"
      ]
    },
    {
      "cell_type": "code",
      "execution_count": 20,
      "metadata": {
        "id": "CnJHbwj0UAi5",
        "colab": {
          "base_uri": "https://localhost:8080/",
          "height": 53
        },
        "outputId": "15053439-ae85-4a42-cdbb-44bb8865cbcf"
      },
      "outputs": [
        {
          "output_type": "execute_result",
          "data": {
            "text/plain": [
              "'You can now find your model in /content/gdrive/MyDrive/ece5545/models/torch_models/tinyconv_float32_init_seed0_89.11%_0.pt under the folder icon to the left.'"
            ],
            "application/vnd.google.colaboratory.intrinsic+json": {
              "type": "string"
            }
          },
          "metadata": {},
          "execution_count": 20
        }
      ],
      "source": [
        "'You can now find your model in %s under the folder icon to the left.' % torch_path"
      ]
    },
    {
      "cell_type": "code",
      "source": [
        ""
      ],
      "metadata": {
        "id": "kauQRx68xaeo"
      },
      "execution_count": 20,
      "outputs": []
    }
  ],
  "metadata": {
    "colab": {
      "collapsed_sections": [],
      "name": "3_training_and_analysis.ipynb",
      "provenance": [],
      "toc_visible": true,
      "machine_shape": "hm",
      "include_colab_link": true
    },
    "interpreter": {
      "hash": "92bf126df007708fd70c442c808ee74575bedf7ea6317e0b182c3af0184af25d"
    },
    "kernelspec": {
      "display_name": "Python 3",
      "name": "python3"
    },
    "language_info": {
      "name": "python"
    },
    "accelerator": "TPU",
    "widgets": {
      "application/vnd.jupyter.widget-state+json": {
        "81696d5967a5430e97aa34f2debdfd3d": {
          "model_module": "@jupyter-widgets/controls",
          "model_name": "HBoxModel",
          "model_module_version": "1.5.0",
          "state": {
            "_dom_classes": [],
            "_model_module": "@jupyter-widgets/controls",
            "_model_module_version": "1.5.0",
            "_model_name": "HBoxModel",
            "_view_count": null,
            "_view_module": "@jupyter-widgets/controls",
            "_view_module_version": "1.5.0",
            "_view_name": "HBoxView",
            "box_style": "",
            "children": [
              "IPY_MODEL_e3b344f7a3324362bfddbdf04c552745",
              "IPY_MODEL_1d9c64258110431aa1fb1c3353a913b9",
              "IPY_MODEL_ca72431c7f69432e862225e9c7234a8c"
            ],
            "layout": "IPY_MODEL_9ae15af6e043429392755229d5d15946"
          }
        },
        "e3b344f7a3324362bfddbdf04c552745": {
          "model_module": "@jupyter-widgets/controls",
          "model_name": "HTMLModel",
          "model_module_version": "1.5.0",
          "state": {
            "_dom_classes": [],
            "_model_module": "@jupyter-widgets/controls",
            "_model_module_version": "1.5.0",
            "_model_name": "HTMLModel",
            "_view_count": null,
            "_view_module": "@jupyter-widgets/controls",
            "_view_module_version": "1.5.0",
            "_view_name": "HTMLView",
            "description": "",
            "description_tooltip": null,
            "layout": "IPY_MODEL_475e439773634e74b0b0c823355994be",
            "placeholder": "​",
            "style": "IPY_MODEL_fb5a816a66fe4060af69b0b40550e02e",
            "value": "100%"
          }
        },
        "1d9c64258110431aa1fb1c3353a913b9": {
          "model_module": "@jupyter-widgets/controls",
          "model_name": "FloatProgressModel",
          "model_module_version": "1.5.0",
          "state": {
            "_dom_classes": [],
            "_model_module": "@jupyter-widgets/controls",
            "_model_module_version": "1.5.0",
            "_model_name": "FloatProgressModel",
            "_view_count": null,
            "_view_module": "@jupyter-widgets/controls",
            "_view_module_version": "1.5.0",
            "_view_name": "ProgressView",
            "bar_style": "success",
            "description": "",
            "description_tooltip": null,
            "layout": "IPY_MODEL_87c0ab31af8f45a1a43ba3c5842ccd0d",
            "max": 50,
            "min": 0,
            "orientation": "horizontal",
            "style": "IPY_MODEL_a27fa0671dcc40fcbbea25f4fcccd4d3",
            "value": 50
          }
        },
        "ca72431c7f69432e862225e9c7234a8c": {
          "model_module": "@jupyter-widgets/controls",
          "model_name": "HTMLModel",
          "model_module_version": "1.5.0",
          "state": {
            "_dom_classes": [],
            "_model_module": "@jupyter-widgets/controls",
            "_model_module_version": "1.5.0",
            "_model_name": "HTMLModel",
            "_view_count": null,
            "_view_module": "@jupyter-widgets/controls",
            "_view_module_version": "1.5.0",
            "_view_name": "HTMLView",
            "description": "",
            "description_tooltip": null,
            "layout": "IPY_MODEL_54e7730dd10e4d45a83d4ae55843a1c9",
            "placeholder": "​",
            "style": "IPY_MODEL_07f8e148cb0a465685d004dd2a067769",
            "value": " 50/50 [1:57:07&lt;00:00, 79.27s/it]"
          }
        },
        "9ae15af6e043429392755229d5d15946": {
          "model_module": "@jupyter-widgets/base",
          "model_name": "LayoutModel",
          "model_module_version": "1.2.0",
          "state": {
            "_model_module": "@jupyter-widgets/base",
            "_model_module_version": "1.2.0",
            "_model_name": "LayoutModel",
            "_view_count": null,
            "_view_module": "@jupyter-widgets/base",
            "_view_module_version": "1.2.0",
            "_view_name": "LayoutView",
            "align_content": null,
            "align_items": null,
            "align_self": null,
            "border": null,
            "bottom": null,
            "display": null,
            "flex": null,
            "flex_flow": null,
            "grid_area": null,
            "grid_auto_columns": null,
            "grid_auto_flow": null,
            "grid_auto_rows": null,
            "grid_column": null,
            "grid_gap": null,
            "grid_row": null,
            "grid_template_areas": null,
            "grid_template_columns": null,
            "grid_template_rows": null,
            "height": null,
            "justify_content": null,
            "justify_items": null,
            "left": null,
            "margin": null,
            "max_height": null,
            "max_width": null,
            "min_height": null,
            "min_width": null,
            "object_fit": null,
            "object_position": null,
            "order": null,
            "overflow": null,
            "overflow_x": null,
            "overflow_y": null,
            "padding": null,
            "right": null,
            "top": null,
            "visibility": null,
            "width": null
          }
        },
        "475e439773634e74b0b0c823355994be": {
          "model_module": "@jupyter-widgets/base",
          "model_name": "LayoutModel",
          "model_module_version": "1.2.0",
          "state": {
            "_model_module": "@jupyter-widgets/base",
            "_model_module_version": "1.2.0",
            "_model_name": "LayoutModel",
            "_view_count": null,
            "_view_module": "@jupyter-widgets/base",
            "_view_module_version": "1.2.0",
            "_view_name": "LayoutView",
            "align_content": null,
            "align_items": null,
            "align_self": null,
            "border": null,
            "bottom": null,
            "display": null,
            "flex": null,
            "flex_flow": null,
            "grid_area": null,
            "grid_auto_columns": null,
            "grid_auto_flow": null,
            "grid_auto_rows": null,
            "grid_column": null,
            "grid_gap": null,
            "grid_row": null,
            "grid_template_areas": null,
            "grid_template_columns": null,
            "grid_template_rows": null,
            "height": null,
            "justify_content": null,
            "justify_items": null,
            "left": null,
            "margin": null,
            "max_height": null,
            "max_width": null,
            "min_height": null,
            "min_width": null,
            "object_fit": null,
            "object_position": null,
            "order": null,
            "overflow": null,
            "overflow_x": null,
            "overflow_y": null,
            "padding": null,
            "right": null,
            "top": null,
            "visibility": null,
            "width": null
          }
        },
        "fb5a816a66fe4060af69b0b40550e02e": {
          "model_module": "@jupyter-widgets/controls",
          "model_name": "DescriptionStyleModel",
          "model_module_version": "1.5.0",
          "state": {
            "_model_module": "@jupyter-widgets/controls",
            "_model_module_version": "1.5.0",
            "_model_name": "DescriptionStyleModel",
            "_view_count": null,
            "_view_module": "@jupyter-widgets/base",
            "_view_module_version": "1.2.0",
            "_view_name": "StyleView",
            "description_width": ""
          }
        },
        "87c0ab31af8f45a1a43ba3c5842ccd0d": {
          "model_module": "@jupyter-widgets/base",
          "model_name": "LayoutModel",
          "model_module_version": "1.2.0",
          "state": {
            "_model_module": "@jupyter-widgets/base",
            "_model_module_version": "1.2.0",
            "_model_name": "LayoutModel",
            "_view_count": null,
            "_view_module": "@jupyter-widgets/base",
            "_view_module_version": "1.2.0",
            "_view_name": "LayoutView",
            "align_content": null,
            "align_items": null,
            "align_self": null,
            "border": null,
            "bottom": null,
            "display": null,
            "flex": null,
            "flex_flow": null,
            "grid_area": null,
            "grid_auto_columns": null,
            "grid_auto_flow": null,
            "grid_auto_rows": null,
            "grid_column": null,
            "grid_gap": null,
            "grid_row": null,
            "grid_template_areas": null,
            "grid_template_columns": null,
            "grid_template_rows": null,
            "height": null,
            "justify_content": null,
            "justify_items": null,
            "left": null,
            "margin": null,
            "max_height": null,
            "max_width": null,
            "min_height": null,
            "min_width": null,
            "object_fit": null,
            "object_position": null,
            "order": null,
            "overflow": null,
            "overflow_x": null,
            "overflow_y": null,
            "padding": null,
            "right": null,
            "top": null,
            "visibility": null,
            "width": null
          }
        },
        "a27fa0671dcc40fcbbea25f4fcccd4d3": {
          "model_module": "@jupyter-widgets/controls",
          "model_name": "ProgressStyleModel",
          "model_module_version": "1.5.0",
          "state": {
            "_model_module": "@jupyter-widgets/controls",
            "_model_module_version": "1.5.0",
            "_model_name": "ProgressStyleModel",
            "_view_count": null,
            "_view_module": "@jupyter-widgets/base",
            "_view_module_version": "1.2.0",
            "_view_name": "StyleView",
            "bar_color": null,
            "description_width": ""
          }
        },
        "54e7730dd10e4d45a83d4ae55843a1c9": {
          "model_module": "@jupyter-widgets/base",
          "model_name": "LayoutModel",
          "model_module_version": "1.2.0",
          "state": {
            "_model_module": "@jupyter-widgets/base",
            "_model_module_version": "1.2.0",
            "_model_name": "LayoutModel",
            "_view_count": null,
            "_view_module": "@jupyter-widgets/base",
            "_view_module_version": "1.2.0",
            "_view_name": "LayoutView",
            "align_content": null,
            "align_items": null,
            "align_self": null,
            "border": null,
            "bottom": null,
            "display": null,
            "flex": null,
            "flex_flow": null,
            "grid_area": null,
            "grid_auto_columns": null,
            "grid_auto_flow": null,
            "grid_auto_rows": null,
            "grid_column": null,
            "grid_gap": null,
            "grid_row": null,
            "grid_template_areas": null,
            "grid_template_columns": null,
            "grid_template_rows": null,
            "height": null,
            "justify_content": null,
            "justify_items": null,
            "left": null,
            "margin": null,
            "max_height": null,
            "max_width": null,
            "min_height": null,
            "min_width": null,
            "object_fit": null,
            "object_position": null,
            "order": null,
            "overflow": null,
            "overflow_x": null,
            "overflow_y": null,
            "padding": null,
            "right": null,
            "top": null,
            "visibility": null,
            "width": null
          }
        },
        "07f8e148cb0a465685d004dd2a067769": {
          "model_module": "@jupyter-widgets/controls",
          "model_name": "DescriptionStyleModel",
          "model_module_version": "1.5.0",
          "state": {
            "_model_module": "@jupyter-widgets/controls",
            "_model_module_version": "1.5.0",
            "_model_name": "DescriptionStyleModel",
            "_view_count": null,
            "_view_module": "@jupyter-widgets/base",
            "_view_module_version": "1.2.0",
            "_view_name": "StyleView",
            "description_width": ""
          }
        }
      }
    }
  },
  "nbformat": 4,
  "nbformat_minor": 0
}